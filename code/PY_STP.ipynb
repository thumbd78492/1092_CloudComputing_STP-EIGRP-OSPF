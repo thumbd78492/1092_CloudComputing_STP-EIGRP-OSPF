{
 "cells": [
  {
   "cell_type": "code",
   "execution_count": 1,
   "metadata": {},
   "outputs": [
    {
     "output_type": "stream",
     "name": "stdout",
     "text": [
      "Hello\nNewCost:19, Hello\nIgnore\nIgnore\nIgnore\nNewCost:23, Hello\n==========\nID:50\nPriority:32768\nRootID:20\nRootPriority:4096\nRootPortTo:30\nCost:23\n==========\n"
     ]
    }
   ],
   "source": [
    "f = open(\"STP_in_1.txt\", \"r\")\n",
    "\n",
    "class Switch:\n",
    "    bandwidth_to_cost_table = {\n",
    "        4 : 250,\n",
    "        10 : 100,\n",
    "        16 : 62,\n",
    "        45 : 39,\n",
    "        100 : 19,\n",
    "        155 : 14,\n",
    "        1000 : 4,\n",
    "        10000 : 2\n",
    "    }\n",
    "    def __init__(self, ID, Priority, RootID = None, RootPriority = None, Cost = None):\n",
    "        self.ID = ID\n",
    "        self.Priority = Priority\n",
    "        self.RootID = self.ID if not RootID else RootID\n",
    "        self.RootPortTo = None\n",
    "        self.RootPriority = self.Priority if not RootPriority else RootPriority\n",
    "        self.Cost = 0 if not Cost else Cost\n",
    "    \n",
    "    def priorityIsLargerThan(self, target):\n",
    "        if self.RootPriority > target.RootPriority:\n",
    "            return True\n",
    "        if self.RootPriority == target.RootPriority and self.RootID > target.RootID:\n",
    "            return True\n",
    "        return False\n",
    "    \n",
    "    def modRoot(self, target, bandwidth):\n",
    "        self.RootID = target.RootID\n",
    "        self.RootPriority = target.RootPriority\n",
    "        self.RootPortTo = target.ID\n",
    "        self.Cost = target.Cost + self.bandwidth_to_cost_table[bandwidth]\n",
    "    \n",
    "    def getInfo(self):\n",
    "        s = \"==========\"\n",
    "        s += \"\\nID:{}\\nPriority:{}\\nRootID:{}\\nRootPriority:{}\\nRootPortTo:{}\\nCost:{}\"\\\n",
    "             .format(self.ID, self.Priority, self.RootID, self.RootPriority, self.RootPortTo, self.Cost)\n",
    "        s += \"\\n==========\"\n",
    "        return s\n",
    "    \n",
    "myID = int(f.readline())\n",
    "myPriority = int(f.readline())\n",
    "mainSwitch = Switch(myID, myPriority)\n",
    "n = int(f.readline())\n",
    "\n",
    "print(\"Hello\")\n",
    "for i in range(n):\n",
    "    otherID = int(f.readline())\n",
    "    otherPriority = int(f.readline())\n",
    "    otherRoot = int(f.readline())\n",
    "    otherRootPriority = int(f.readline())\n",
    "    otherCost = int(f.readline())\n",
    "    bandwidth = int(f.readline())\n",
    "    \n",
    "    newSwitch = Switch(otherID, otherPriority, otherRoot, otherRootPriority, otherCost)\n",
    "    \n",
    "    if mainSwitch.priorityIsLargerThan(newSwitch):             # 需要改root\n",
    "        mainSwitch.modRoot(target = newSwitch, bandwidth = bandwidth)\n",
    "        print(\"NewCost:\", mainSwitch.Cost, \", Hello\", sep = \"\")\n",
    "    else:\n",
    "        print(\"Ignore\")\n",
    "print(mainSwitch.getInfo())"
   ]
  },
  {
   "cell_type": "code",
   "execution_count": null,
   "metadata": {},
   "outputs": [],
   "source": []
  }
 ],
 "metadata": {
  "kernelspec": {
   "name": "python373jvsc74a57bd0aad651e6b8cdb400a244fefb8eb6a7e4bff618913b04e44acabf1fd0542003ac",
   "display_name": "Python 3.7.3 64-bit ('base': conda)"
  },
  "language_info": {
   "codemirror_mode": {
    "name": "ipython",
    "version": 3
   },
   "file_extension": ".py",
   "mimetype": "text/x-python",
   "name": "python",
   "nbconvert_exporter": "python",
   "pygments_lexer": "ipython3",
   "version": "3.7.3"
  }
 },
 "nbformat": 4,
 "nbformat_minor": 2
}