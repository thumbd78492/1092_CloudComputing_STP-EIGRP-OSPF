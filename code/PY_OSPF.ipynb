{
 "cells": [
  {
   "cell_type": "code",
   "execution_count": 4,
   "metadata": {},
   "outputs": [
    {
     "output_type": "stream",
     "name": "stdout",
     "text": [
      "ID:5, next hop:7, cost:13\nID:7, next hop:8, cost:8\nID:8, next hop:13, cost:4\nID:9, next hop:9, cost:0\nID:13, next hop:13, cost:1\nID:30, next hop:5, cost:17\n"
     ]
    }
   ],
   "source": [
    "f = open(\"OSPF_in_1.txt\", \"r\")\n",
    "\n",
    "edges = {}\n",
    "\n",
    "n = int(f.readline())\n",
    "for _i in range(n):\n",
    "    ID = int(f.readline())\n",
    "    m = int(f.readline())\n",
    "    ID_edge = {}\n",
    "    for _j in range(m):\n",
    "        line = f.readline().split()\n",
    "        target = int(line[0])\n",
    "        cost = int(line[1])\n",
    "        ID_edge[target] = cost\n",
    "    edges[ID] = ID_edge\n",
    "\n",
    "targetSwitch = int(f.readline())\n",
    "\n",
    "dis = {}\n",
    "nextHop = {}\n",
    "dis[targetSwitch] = 0\n",
    "nextHop[targetSwitch] = targetSwitch\n",
    "for ID in edges[targetSwitch]:\n",
    "    dis[ID] = edges[targetSwitch][ID]\n",
    "    nextHop[ID] = ID\n",
    "\n",
    "visited = {}\n",
    "visited[targetSwitch] = 1\n",
    "\n",
    "# Dijkstra Algorithm\n",
    "# print(\"dis:\", dis)\n",
    "for i in range(1, n):\n",
    "#     print(\"visited:\", visited)\n",
    "    minDis = 9999999\n",
    "    u = -1\n",
    "    for j in dis:\n",
    "        if not j in visited and dis[j] < minDis:\n",
    "#             print(\"now checking\", j)\n",
    "            minDis = dis[j]\n",
    "            u = j\n",
    "    if u == -1:\n",
    "        break\n",
    "    visited[u] = 1\n",
    "    for v in edges[u]:\n",
    "#         if v in dis:\n",
    "#             print(\"old:\", dis[v], \"new: \", dis[u] + edges[u][v])\n",
    "#         else:\n",
    "#             print(\"old: inf\", \"new: \", dis[u] + edges[u][v])\n",
    "        if (v in dis and dis[v] > dis[u] + edges[u][v]) or not v in dis:\n",
    "            dis[v] = dis[u] + edges[u][v]\n",
    "            nextHop[v] = u\n",
    "#     print(\"dis:\", dis)\n",
    "\n",
    "# 輸出\n",
    "for i in sorted(dis.keys()):\n",
    "    print(\"ID:{}, next hop:{}, cost:{}\".format(i, nextHop[i], dis[i]))"
   ]
  },
  {
   "cell_type": "code",
   "execution_count": null,
   "metadata": {},
   "outputs": [],
   "source": []
  }
 ],
 "metadata": {
  "kernelspec": {
   "name": "python373jvsc74a57bd0aad651e6b8cdb400a244fefb8eb6a7e4bff618913b04e44acabf1fd0542003ac",
   "display_name": "Python 3.7.3 64-bit ('base': conda)"
  },
  "language_info": {
   "codemirror_mode": {
    "name": "ipython",
    "version": 3
   },
   "file_extension": ".py",
   "mimetype": "text/x-python",
   "name": "python",
   "nbconvert_exporter": "python",
   "pygments_lexer": "ipython3",
   "version": "3.7.3"
  }
 },
 "nbformat": 4,
 "nbformat_minor": 2
}